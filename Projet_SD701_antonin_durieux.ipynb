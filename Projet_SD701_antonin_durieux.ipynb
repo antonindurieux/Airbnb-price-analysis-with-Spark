{
 "cells": [
  {
   "cell_type": "markdown",
   "metadata": {},
   "source": [
    "# Essai de modélisation des prix sur les données Airbnb de la ville de Paris"
   ]
  },
  {
   "cell_type": "markdown",
   "metadata": {},
   "source": [
    "## Introduction"
   ]
  },
  {
   "cell_type": "markdown",
   "metadata": {},
   "source": [
    "L'exercice réalisé dans ce notebook consistera a effectuer une modélisation des prix sur l'ensemble des appartement proposé sur le site Airbnb pour la ville de Paris.  \n",
    "Compte tenu des caractéristiques de l'appartement (localisation, capacité d'accueil, nombre de chambre...), ainsi que des facilités de réservations proposées (nombre de nuits minimum et maximum, disponibilité du logement, réservation instantanée ou non, réglement en cas d'annulation...), quelle serait un prix à la nuit raisonable, aligné sur les prix des logements concurrents? Une telle modélisation pourrait par exemple être pertinente pour une personne s'inscrivant sur Airbnb pour y proposer un nouveau logement, et souhaitant définir un prix en ligne avec la concurrence."
   ]
  },
  {
   "cell_type": "markdown",
   "metadata": {},
   "source": [
    "#### Source de donnée\n",
    "Les données utilisée pour ce projet ont été récupérées sur http://insideairbnb.com/. Ce site propose un ensemble de données issues d'Airbnb sur de nombreuses grandes villes à travers le monde, dont la ville de Paris.  \n",
    "Il est bien précisé sur le site que ce service n'est pas associé ou soutenu par Airbnb. Les données n'ont donc pas été récupérées par des voies officielles et il conviendra donc de garder cela à l'esprit pour garder un oeil critique en cas d'incohérences, de données manquantes ou autres erreurs possibles.  \n",
    "\n",
    "Pour chaque ville représentée sur le site, 7 tables sont proposées :\n",
    "- listings.csv regroupe les informations sur chacune des annonces disponibles au sein de la ville, avec une ligne par annonce et l'ensemble de ses caractéristiques;\n",
    "- calendar.csv contient une table d'évolution des prix pour chaque appartement; \n",
    "- reviews.csv est une table de commentaires sur chaque appartement;\n",
    "- une table de résumé de listings, contenant moins d'informations que la table originale;\n",
    "- une table de résumé de reviews, contenant moins d'informations que la table originale;\n",
    "- neighbourhoods.csv contient une liste des quartiers de la ville;\n",
    "- neighbourhoods.geojson contient les informations de géoréférencement des différents quartiers (qui correspondent en fait aux arrondissements de la ville), il pourra servir pour tracer des cartes.  \n",
    "\n",
    "Ici j'utiliserai la table **listings.csv** pour mon analyse, qui contient l'ensemble des informations intéressantes sur chaque annonce. La table calendar pourrait être intéressante dans le cadre d'une modélisation dynamique des prix, mais ce ne sera pas le sujet. Ce projet consistera simplement à modéliser le prix de base rattaché à l'annonce. \n",
    "\n",
    "L'url de l'archive de la table utilisée est : http://data.insideairbnb.com/france/ile-de-france/paris/2019-09-16/data/listings.csv.gz."
   ]
  },
  {
   "cell_type": "markdown",
   "metadata": {},
   "source": [
    "#### Déroulement technique\n",
    "Pour tenter de construire un modèle de prix, je vais me servir des possibilités offertes par la bibliothèque pySpark.  \n",
    "\n",
    "Les étapes successives exposées dans ce document seront :\n",
    "- le chargement et la mise en forme des données, du fichier brut à la mise en forme en DataFrame Spark ;\n",
    "- l'exploration et le nettoyage des données, pour limiter la complexité de la modélisation ;\n",
    "- une étape consistant à transformer les variables catégorielles en variables numériques grâce à l'encodage one-hot ;\n",
    "- des essais de modélisation grâce à plusieurs algorithmes : moindres carrées ordinaires, moindres carrées régularisés et random forest."
   ]
  },
  {
   "cell_type": "markdown",
   "metadata": {},
   "source": [
    "## 1. Chargement et mise en forme des données"
   ]
  },
  {
   "cell_type": "markdown",
   "metadata": {},
   "source": [
    "Cette étape consistera à charger les données en mémoire, et à les convertir sous forme de RDD puis de DataFrame pySpark pour pouvoir les manipuler plus simplement."
   ]
  },
  {
   "cell_type": "markdown",
   "metadata": {},
   "source": [
    "#### Import des bibliothèques principales"
   ]
  },
  {
   "cell_type": "code",
   "execution_count": 1,
   "metadata": {},
   "outputs": [],
   "source": [
    "import pyspark\n",
    "from pyspark import SparkContext\n",
    "from pyspark import SQLContext\n",
    "from pyspark.sql.types import *\n",
    "from pyspark.sql.functions import *\n",
    "import matplotlib.pyplot as plt\n",
    "import numpy as np\n",
    "import csv\n",
    "import pprint\n",
    "import seaborn as sns\n",
    "import operator\n",
    "import pandas as pd\n",
    "import geopandas as gpd"
   ]
  },
  {
   "cell_type": "markdown",
   "metadata": {},
   "source": [
    "#### Lancement du SparkContext et du SQLContext"
   ]
  },
  {
   "cell_type": "code",
   "execution_count": 2,
   "metadata": {},
   "outputs": [],
   "source": [
    "sc = SparkContext()\n",
    "sqlContext = SQLContext(sc)"
   ]
  },
  {
   "cell_type": "markdown",
   "metadata": {},
   "source": [
    "#### Import des fichiers de données "
   ]
  },
  {
   "cell_type": "code",
   "execution_count": 3,
   "metadata": {},
   "outputs": [],
   "source": [
    "# Accès aux fichiers\n",
    "# A changer selon l'emplacement des données sur le disque\n",
    "path_data = \"/home/antonin/Documents/Cours-HeavyDocs/Projet_SD701/\"\n",
    "listings_csv = \"listings.csv\""
   ]
  },
  {
   "cell_type": "markdown",
   "metadata": {},
   "source": [
    "#### Fonctions de pré-formatage en RDD\n",
    "Les fonctions suivantes serviront à formater les données sous forme de RDD. Cetains champs devront par la suite être transformés en flottants ou en entier, mais il faudra prendre en charge les champs non-remplis : je crée les fonctions toFloat et toInt pour gérer cela en transformant les champs numériques vides en None, une valeur reconnue par Spark."
   ]
  },
  {
   "cell_type": "code",
   "execution_count": 4,
   "metadata": {},
   "outputs": [],
   "source": [
    "# Fonction de découpage du CSV en lignes\n",
    "def parseCSV(line):\n",
    "    reader = csv.reader(line.splitlines(), skipinitialspace=True) \n",
    "    return(next(reader)) \n",
    "\n",
    "# Fonction de transformation en Float avec prise en charge des champs vides\n",
    "def toFloat(field): \n",
    "    if field == '':\n",
    "        return None\n",
    "    else:\n",
    "        return float(field) \n",
    "\n",
    "# Fonction de transformation en Integer avec prise en charge des champs vides\n",
    "def toInt(field):\n",
    "    if field == '':\n",
    "        return None\n",
    "    else:\n",
    "        return int(field)"
   ]
  },
  {
   "cell_type": "markdown",
   "metadata": {},
   "source": [
    "#### Création du RDD\n",
    "Je crée ensuite un RDD à partir de la table csv, je supprime les éventuelles lignes vides, et j'applique la fonction parseCSV pour effectuer le découpage en champs différents à chaque ligne."
   ]
  },
  {
   "cell_type": "code",
   "execution_count": 5,
   "metadata": {},
   "outputs": [],
   "source": [
    "listings_rdd = sc.textFile(path_data + listings_csv)\n",
    "listings_rdd = listings_rdd.filter(lambda line: line != '')\n",
    "listings_rdd = listings_rdd.map(lambda x: parseCSV(x))"
   ]
  },
  {
   "cell_type": "markdown",
   "metadata": {},
   "source": [
    "On peut maintenant afficher la liste des colonnes contenues dans le header du fichier :"
   ]
  },
  {
   "cell_type": "code",
   "execution_count": 6,
   "metadata": {},
   "outputs": [
    {
     "name": "stdout",
     "output_type": "stream",
     "text": [
      "nombre de features totales :  106\n",
      "[('id', 0),\n",
      " ('listing_url', 1),\n",
      " ('scrape_id', 2),\n",
      " ('last_scraped', 3),\n",
      " ('name', 4),\n",
      " ('summary', 5),\n",
      " ('space', 6),\n",
      " ('description', 7),\n",
      " ('experiences_offered', 8),\n",
      " ('neighborhood_overview', 9),\n",
      " ('notes', 10),\n",
      " ('transit', 11),\n",
      " ('access', 12),\n",
      " ('interaction', 13),\n",
      " ('house_rules', 14),\n",
      " ('thumbnail_url', 15),\n",
      " ('medium_url', 16),\n",
      " ('picture_url', 17),\n",
      " ('xl_picture_url', 18),\n",
      " ('host_id', 19),\n",
      " ('host_url', 20),\n",
      " ('host_name', 21),\n",
      " ('host_since', 22),\n",
      " ('host_location', 23),\n",
      " ('host_about', 24),\n",
      " ('host_response_time', 25),\n",
      " ('host_response_rate', 26),\n",
      " ('host_acceptance_rate', 27),\n",
      " ('host_is_superhost', 28),\n",
      " ('host_thumbnail_url', 29),\n",
      " ('host_picture_url', 30),\n",
      " ('host_neighbourhood', 31),\n",
      " ('host_listings_count', 32),\n",
      " ('host_total_listings_count', 33),\n",
      " ('host_verifications', 34),\n",
      " ('host_has_profile_pic', 35),\n",
      " ('host_identity_verified', 36),\n",
      " ('street', 37),\n",
      " ('neighbourhood', 38),\n",
      " ('neighbourhood_cleansed', 39),\n",
      " ('neighbourhood_group_cleansed', 40),\n",
      " ('city', 41),\n",
      " ('state', 42),\n",
      " ('zipcode', 43),\n",
      " ('market', 44),\n",
      " ('smart_location', 45),\n",
      " ('country_code', 46),\n",
      " ('country', 47),\n",
      " ('latitude', 48),\n",
      " ('longitude', 49),\n",
      " ('is_location_exact', 50),\n",
      " ('property_type', 51),\n",
      " ('room_type', 52),\n",
      " ('accommodates', 53),\n",
      " ('bathrooms', 54),\n",
      " ('bedrooms', 55),\n",
      " ('beds', 56),\n",
      " ('bed_type', 57),\n",
      " ('amenities', 58),\n",
      " ('square_feet', 59),\n",
      " ('price', 60),\n",
      " ('weekly_price', 61),\n",
      " ('monthly_price', 62),\n",
      " ('security_deposit', 63),\n",
      " ('cleaning_fee', 64),\n",
      " ('guests_included', 65),\n",
      " ('extra_people', 66),\n",
      " ('minimum_nights', 67),\n",
      " ('maximum_nights', 68),\n",
      " ('minimum_minimum_nights', 69),\n",
      " ('maximum_minimum_nights', 70),\n",
      " ('minimum_maximum_nights', 71),\n",
      " ('maximum_maximum_nights', 72),\n",
      " ('minimum_nights_avg_ntm', 73),\n",
      " ('maximum_nights_avg_ntm', 74),\n",
      " ('calendar_updated', 75),\n",
      " ('has_availability', 76),\n",
      " ('availability_30', 77),\n",
      " ('availability_60', 78),\n",
      " ('availability_90', 79),\n",
      " ('availability_365', 80),\n",
      " ('calendar_last_scraped', 81),\n",
      " ('number_of_reviews', 82),\n",
      " ('number_of_reviews_ltm', 83),\n",
      " ('first_review', 84),\n",
      " ('last_review', 85),\n",
      " ('review_scores_rating', 86),\n",
      " ('review_scores_accuracy', 87),\n",
      " ('review_scores_cleanliness', 88),\n",
      " ('review_scores_checkin', 89),\n",
      " ('review_scores_communication', 90),\n",
      " ('review_scores_location', 91),\n",
      " ('review_scores_value', 92),\n",
      " ('requires_license', 93),\n",
      " ('license', 94),\n",
      " ('jurisdiction_names', 95),\n",
      " ('instant_bookable', 96),\n",
      " ('is_business_travel_ready', 97),\n",
      " ('cancellation_policy', 98),\n",
      " ('require_guest_profile_picture', 99),\n",
      " ('require_guest_phone_verification', 100),\n",
      " ('calculated_host_listings_count', 101),\n",
      " ('calculated_host_listings_count_entire_homes', 102),\n",
      " ('calculated_host_listings_count_private_rooms', 103),\n",
      " ('calculated_host_listings_count_shared_rooms', 104),\n",
      " ('reviews_per_month', 105)]\n"
     ]
    }
   ],
   "source": [
    "# Affichage de la liste des colonnes du header\n",
    "n_features = len(listings_rdd.take(1)[0])\n",
    "feature_list = list(zip(listings_rdd.take(1)[0], list(range(n_features))))\n",
    "print(\"nombre de features totales : \", n_features)\n",
    "pprint.pprint(feature_list)"
   ]
  },
  {
   "cell_type": "markdown",
   "metadata": {},
   "source": [
    "On constate qu'il y a 106 colonnes disponibles dans ce tableau, c'est beaucoup et je vais donc effectuer un tri basé sur plusieurs critères :  \n",
    "1. La pertinence vis-à-vis de notre objectif :  \n",
    "On se met à la place d'un nouvel utilisateur d'Airbnb, proposant un nouveau logement. Les critères entrant en compte sont donc les caractéristiques de l'appartement, et la flexibilité que l'hôte est prêt à mettre en place (degré de mise à disposition du logement, réglement en cas d'annulation...).  \n",
    "Dans ce cadre, les données sur le nombre de commentaires et de notes, et sur la réactivité passée de l'hôte doivent être supprimées car elles ne s'appliquent pas pour un nouvel utilisateur.  \n",
    "De même, je décide de ne pas garder les colonnes sur le prix pratiqué pour des personnes supplémentaires ou pour le ménage car elles pourraient être elles-même induites par le prix du logement.\n",
    "2. La complexité de la modélisation :  \n",
    "Certaines données semblent d'intérêt mais je n'ai pas encore les capacités techniques ou l'ambition de les utiliser : la description de l'appartement, du quartier ou encore les informations sur le transit seraient par exemple intéressantes à prendre en compte mais cela nécessiterait de les analyser avec du Natural Language Processing. La colonne \"amenities\" contient des informations intéressantes également mais elle serait complexe à manipuler du fait des nombreuses informations contenues.\n",
    "3. Les données sans intérêt :  \n",
    "On peut directement supprimer les données qui n'ont clairement pas d'intérêt pour l'analyse, comme par exemple les url, numéro d'identifiant, nom de l'hôte, les colonnes de localisation redondantes etc... Il y a aussi des colonnes dont on s'aperçoit directement en parcourant le fichier qu'elles sont très majoritairement non renseignées, comme les colonnes \"experiences offered\" ou \"square_feet\" par exemple.\n",
    "\n",
    "Au final, je choisis de retenir les colonnes suivantes :\n",
    "- neighbourhood_cleansed\n",
    "- property_type\n",
    "- room_type\n",
    "- accommodates\n",
    "- bathrooms\n",
    "- bedrooms\n",
    "- beds\n",
    "- bed_type\n",
    "- price\n",
    "- guests_included\n",
    "- minimum_nights\n",
    "- maximum_nights\n",
    "- availability_30\n",
    "- availability_60\n",
    "- availability_90\n",
    "- availability_365\n",
    "- instant_bookable\n",
    "- is_business_travel_ready\n",
    "- cancellation_policy"
   ]
  },
  {
   "cell_type": "markdown",
   "metadata": {},
   "source": [
    "#### Création du DataFrame\n",
    "Je vais créer un DataFrame à partir du RDD. Le DataFrame permettra une manipulation plus aisée et adaptée de mes données."
   ]
  },
  {
   "cell_type": "code",
   "execution_count": 7,
   "metadata": {},
   "outputs": [],
   "source": [
    "# Suppression du header\n",
    "header = listings_rdd.take(1)\n",
    "listings_rdd = listings_rdd.filter(lambda line: line != header[0])"
   ]
  },
  {
   "cell_type": "markdown",
   "metadata": {},
   "source": [
    "Certaines lignes du RDD présentent des anomalies de structure causant des renvois d'erreurs lors de la transformation en DataFrame. La plupart du temps, cela semble être dû à des retours à la ligne au sein des champs descriptifs, ou à d'autres irrégularités de format de ce type. Afin de s'affranchir de ce problème, je vais simplement supprimer les lignes qui ne contiennent pas le bon nombre de champs :"
   ]
  },
  {
   "cell_type": "code",
   "execution_count": 8,
   "metadata": {},
   "outputs": [],
   "source": [
    "# Filtre des lignes problématiques\n",
    "listings_rdd = listings_rdd.filter(lambda line: len(line)==106)  \n",
    "listings_rdd = listings_rdd.filter(lambda line: line[0].isdigit()) "
   ]
  },
  {
   "cell_type": "markdown",
   "metadata": {},
   "source": [
    "Pour le moment tous les champs de données sont de type String, la conversion en DataFrame nécessitera de les convertir vers le type adapté :"
   ]
  },
  {
   "cell_type": "code",
   "execution_count": 9,
   "metadata": {},
   "outputs": [],
   "source": [
    "# Conversion des différents champs de données \n",
    "listings_cols = listings_rdd.map(lambda line: (line[39],\n",
    "                                           line[51],\n",
    "                                           line[52], \n",
    "                                           toInt(line[53]), \n",
    "                                           toFloat(line[54]), \n",
    "                                           toInt(line[55]),\n",
    "                                           toInt(line[56]), \n",
    "                                           line[57],\n",
    "                                           toInt(line[65]),\n",
    "                                           toInt(line[67]),\n",
    "                                           toInt(line[68]),\n",
    "                                           toInt(line[77]),\n",
    "                                           toInt(line[78]),\n",
    "                                           toInt(line[79]),\n",
    "                                           toInt(line[80]),\n",
    "                                           line[96],\n",
    "                                           line[97],\n",
    "                                           line[98],\n",
    "                                           toFloat(line[60].strip('$').replace(',','')))) # formatage des prix"
   ]
  },
  {
   "cell_type": "markdown",
   "metadata": {},
   "source": [
    "Les prix ont également été convertis en flottants à cette étape. On note que c'est un signe \"$\" qui indiquait l'unité du prix mais on peut supposer qu'il s'agissait plutôt d'euros (pour rappel, les données ne sont pas officielles et il peut y avoir des erreurs). Je pourrai vérifier ce point par la suite en explorant les données."
   ]
  },
  {
   "cell_type": "markdown",
   "metadata": {},
   "source": [
    "Je crée le schéma du DataFrame, basé sur le type de données à recevoir, puis je crée le DataFrame lui-même :"
   ]
  },
  {
   "cell_type": "code",
   "execution_count": 10,
   "metadata": {},
   "outputs": [],
   "source": [
    "# Création du schéma du DataFrame\n",
    "listingsSchema = StructType([StructField(\"neighbourhood\", StringType(), True),\n",
    "                             StructField(\"property_type\", StringType(), True),\n",
    "                             StructField(\"room_type\", StringType(), True),\n",
    "                             StructField(\"accomodates\", IntegerType(), True),\n",
    "                             StructField(\"bathrooms\", FloatType(), True),\n",
    "                             StructField(\"bedrooms\", IntegerType(), True),\n",
    "                             StructField(\"beds\", IntegerType(), True),\n",
    "                             StructField(\"bed_type\", StringType(), True),\n",
    "                             StructField(\"guests_included\", IntegerType(), True),\n",
    "                             StructField(\"minimum_night\", IntegerType(), True),\n",
    "                             StructField(\"maximum_night\", IntegerType(), True),\n",
    "                             StructField(\"availability_30\", IntegerType(), True),\n",
    "                             StructField(\"availability_60\", IntegerType(), True),\n",
    "                             StructField(\"availability_90\", IntegerType(), True),\n",
    "                             StructField(\"availability_365\", IntegerType(), True),\n",
    "                             StructField(\"instant_bookable\", StringType(), True),\n",
    "                             StructField(\"is_business_travel_ready\", StringType(), True),\n",
    "                             StructField(\"cancellation_policy\", StringType(), True),\n",
    "                             StructField(\"price\", FloatType(), True)])  "
   ]
  },
  {
   "cell_type": "code",
   "execution_count": 11,
   "metadata": {},
   "outputs": [],
   "source": [
    "# Création du DataFrame\n",
    "listings_df = sqlContext.createDataFrame(listings_cols, listingsSchema)"
   ]
  },
  {
   "cell_type": "code",
   "execution_count": 12,
   "metadata": {},
   "outputs": [
    {
     "name": "stdout",
     "output_type": "stream",
     "text": [
      "Longueur du DataFrame : 45836, nombre de colonnes : 19\n"
     ]
    }
   ],
   "source": [
    "# Dimensions du DataFrame de départ\n",
    "print(\"Longueur du DataFrame : {}, nombre de colonnes : {}\".format(listings_df.count(), len(listings_df.columns)))"
   ]
  },
  {
   "cell_type": "code",
   "execution_count": 13,
   "metadata": {},
   "outputs": [
    {
     "data": {
      "text/plain": [
       "[Row(neighbourhood='Observatoire', property_type='Apartment', room_type='Entire home/apt', accomodates=2, bathrooms=1.0, bedrooms=0, beds=1, bed_type='Real Bed', guests_included=1, minimum_night=3, maximum_night=15, availability_30=22, availability_60=43, availability_90=44, availability_365=227, instant_bookable='f', is_business_travel_ready='f', cancellation_policy='flexible', price=60.0)]"
      ]
     },
     "execution_count": 13,
     "metadata": {},
     "output_type": "execute_result"
    }
   ],
   "source": [
    "# Affichage de la première ligne pour un aperçu du résultat\n",
    "listings_df.take(1)"
   ]
  },
  {
   "cell_type": "markdown",
   "metadata": {},
   "source": [
    "## 2. Nettoyage et exploration des données"
   ]
  },
  {
   "cell_type": "markdown",
   "metadata": {},
   "source": [
    "Cette étape consistera tout d'abord à effectuer quelques nettoyages basiques sur les données, puis à les examiner afin d'en tirer quelques informations utiles, en filtrant éventuellement les points qui pourraient causer des soucis par la suite.  \n",
    "Pour la partie plus explorative, il serait possible de visualiser quantité d'informations mais je choisis ici de m'intéresser plus particulièrement à la répartition des prix, puis à l'impact du nombre de chambre et à celui de la localisation qui pourraient être des facteurs important dans la modélisation."
   ]
  },
  {
   "cell_type": "markdown",
   "metadata": {},
   "source": [
    "#### Nettoyage du DataFrame\n",
    "A cette étape, je vais filtrer les données incohérentes encore contenues dans le DataFrame, afin d'avoir le moins possible de données faussées lors de la modélisation.  \n",
    "\n",
    "Pour cela, je commence par filtrer les éventuelles valeurs nulles contenues dans les colonnes \"accomodates\", \"bathrooms\", \"bedrooms\", \"beds\", \"guests_included\" et \"price\" :"
   ]
  },
  {
   "cell_type": "code",
   "execution_count": 14,
   "metadata": {},
   "outputs": [],
   "source": [
    "# Filtrage des prix nuls\n",
    "listings_df = listings_df.filter((listings_df.accomodates > 0) &\n",
    "                                (listings_df.bathrooms > 0) & \n",
    "                                (listings_df.bedrooms > 0) &\n",
    "                                (listings_df.beds > 0) &\n",
    "                                (listings_df.guests_included > 0) &\n",
    "                                (listings_df.price > 0))"
   ]
  },
  {
   "cell_type": "markdown",
   "metadata": {},
   "source": [
    "Je vais maintenant supprimer les types de propriété très peu représentés et/ou semblant fantaisistes, afin de limiter la complexité du modèle :"
   ]
  },
  {
   "cell_type": "code",
   "execution_count": 15,
   "metadata": {
    "scrolled": true
   },
   "outputs": [
    {
     "name": "stdout",
     "output_type": "stream",
     "text": [
      "+--------------------+-----+\n",
      "|       property_type|count|\n",
      "+--------------------+-----+\n",
      "|           Apartment|31363|\n",
      "|           Townhouse|  153|\n",
      "|              Resort|    1|\n",
      "|         Guest suite|   16|\n",
      "|Casa particular (...|    2|\n",
      "|      Boutique hotel|  413|\n",
      "|                Loft|  698|\n",
      "|          Guesthouse|   69|\n",
      "|              Hostel|   46|\n",
      "|                Cave|    2|\n",
      "|               Villa|    8|\n",
      "|            Campsite|    1|\n",
      "|          Aparthotel|   16|\n",
      "|               Other|   66|\n",
      "|  Serviced apartment|  253|\n",
      "|         Earth house|    3|\n",
      "|               Hotel|  125|\n",
      "|             Cottage|    2|\n",
      "|        Nature lodge|    1|\n",
      "|               Igloo|    1|\n",
      "|         Condominium| 1001|\n",
      "|               House|  311|\n",
      "|                Boat|    8|\n",
      "|          Tiny house|   11|\n",
      "|           Houseboat|    7|\n",
      "|            Bungalow|    1|\n",
      "|   Bed and breakfast|  172|\n",
      "+--------------------+-----+\n",
      "\n"
     ]
    }
   ],
   "source": [
    "# Affichage des types de propriété et de leur nombre\n",
    "listings_df.groupBy([\"property_type\"]).count().show(n=50)"
   ]
  },
  {
   "cell_type": "code",
   "execution_count": 16,
   "metadata": {},
   "outputs": [],
   "source": [
    "# Filtre sur le type de propriété\n",
    "property_type_list = ['Apartment', 'Townhouse', 'Boutique hotel', 'Loft', \n",
    "                      'Guesthouse', 'Hostel', 'Other', 'Serviced apartment', 'Hotel', \n",
    "                      'Condominium', 'House', 'Bed and breakfast']\n",
    "listings_df = listings_df.filter(listings_df.property_type.isin(property_type_list))"
   ]
  },
  {
   "cell_type": "markdown",
   "metadata": {},
   "source": [
    "On peux vérifier qu'il n'y a pas ce type de valeur fantaisistes dans les colonnes \"room_type\" et \"bed_type\" :"
   ]
  },
  {
   "cell_type": "code",
   "execution_count": 17,
   "metadata": {},
   "outputs": [
    {
     "name": "stdout",
     "output_type": "stream",
     "text": [
      "+---------------+-----+\n",
      "|      room_type|count|\n",
      "+---------------+-----+\n",
      "|    Shared room|  319|\n",
      "|Entire home/apt|29165|\n",
      "|   Private room| 5186|\n",
      "+---------------+-----+\n",
      "\n"
     ]
    }
   ],
   "source": [
    "listings_df.groupBy([\"room_type\"]).count().show()"
   ]
  },
  {
   "cell_type": "code",
   "execution_count": 18,
   "metadata": {},
   "outputs": [
    {
     "name": "stdout",
     "output_type": "stream",
     "text": [
      "+-------------+-----+\n",
      "|     bed_type|count|\n",
      "+-------------+-----+\n",
      "|       Airbed|   10|\n",
      "|        Futon|  102|\n",
      "|Pull-out Sofa|  567|\n",
      "|        Couch|  123|\n",
      "|     Real Bed|33868|\n",
      "+-------------+-----+\n",
      "\n"
     ]
    }
   ],
   "source": [
    "listings_df.groupBy([\"bed_type\"]).count().show()"
   ]
  },
  {
   "cell_type": "markdown",
   "metadata": {},
   "source": [
    "#### Etude de la répartition des prix\n",
    "Je commence par étudier la répartition des prix en traçant son histogramme et en calculant les statistiques principales :"
   ]
  },
  {
   "cell_type": "code",
   "execution_count": 19,
   "metadata": {},
   "outputs": [
    {
     "data": {
      "image/png": "[encoded data removed]",
      "text/plain": [
       "<Figure size 648x360 with 1 Axes>"
      ]
     },
     "metadata": {},
     "output_type": "display_data"
    }
   ],
   "source": [
    "sns.set(rc={'figure.figsize': (9, 5)})\n",
    "\n",
    "# Calcul de l'histogramme\n",
    "bins, counts = listings_df.select(\"price\").rdd.flatMap(lambda x: x).histogram(100)\n",
    "\n",
    "# Affichage\n",
    "fig, ax = plt.subplots()\n",
    "plt.hist(bins[:-1], bins=bins, weights=counts)\n",
    "plt.title('Répartition des prix')\n",
    "plt.xlabel('Prix (€)')\n",
    "plt.ylabel('Densité')\n",
    "plt.show()"
   ]
  },
  {
   "cell_type": "code",
   "execution_count": 20,
   "metadata": {},
   "outputs": [
    {
     "name": "stdout",
     "output_type": "stream",
     "text": [
      "+-------+------------------+\n",
      "|summary|             price|\n",
      "+-------+------------------+\n",
      "|  count|             34670|\n",
      "|   mean|119.09356792616094|\n",
      "| stddev|134.23669390322246|\n",
      "|    min|               8.0|\n",
      "|    max|            8500.0|\n",
      "+-------+------------------+\n",
      "\n"
     ]
    }
   ],
   "source": [
    "# Statistiques de prix\n",
    "listings_df.describe(['price']).show()"
   ]
  },
  {
   "cell_type": "markdown",
   "metadata": {},
   "source": [
    "On voit que la très grande majorité des prix est distribuée vers les valeurs les plus faibles, et que les prix très élevés font figure d'outliers. A cette étape je pourrais choisir de travailler sur le logarithme des prix pour tenter de corriger cette distribution biaisée, mais on y perdrait en interprétabilité par la suite, notamment pour estimer les erreurs de modélisation. Je vais plutôt choisir de supprimer les locations proposées à plus de 500 € pour ne pas être influencé par les cas extrêmes."
   ]
  },
  {
   "cell_type": "code",
   "execution_count": 21,
   "metadata": {},
   "outputs": [],
   "source": [
    "listings_df = listings_df.filter(listings_df.price<500)"
   ]
  },
  {
   "cell_type": "code",
   "execution_count": 22,
   "metadata": {},
   "outputs": [
    {
     "data": {
      "image/png": "[encoded data removed]",
      "text/plain": [
       "<Figure size 648x360 with 1 Axes>"
      ]
     },
     "metadata": {},
     "output_type": "display_data"
    }
   ],
   "source": [
    "# Calcul du nouvel histogramme\n",
    "bins, counts = listings_df.select(\"price\").rdd.flatMap(lambda x: x).histogram(100)\n",
    "\n",
    "# Affichage\n",
    "fig, ax = plt.subplots()\n",
    "plt.hist(bins[:-1], bins=bins, weights=counts)\n",
    "plt.title('Répartition des prix')\n",
    "plt.xlabel('Prix (€)')\n",
    "plt.ylabel('Densité')\n",
    "plt.show()"
   ]
  },
  {
   "cell_type": "markdown",
   "metadata": {},
   "source": [
    "On s'aperçoit au passage que les prix ronds (100, 150, 200...) sont sur-représentés, ce qui valide l'hypothèse que les prix étaient bien en euros au départ."
   ]
  },
  {
   "cell_type": "markdown",
   "metadata": {},
   "source": [
    "#### Nombre de chambre\n",
    "Le nombre de chambre de l'appartement devrait être une variable explicative importante, on peut en tracer l'histogramme de répartition, et avoir une première idée de son impact en calculant la moyenne des prix par nombre de chambres différents."
   ]
  },
  {
   "cell_type": "code",
   "execution_count": 70,
   "metadata": {},
   "outputs": [
    {
     "data": {
      "image/png": "[encoded data removed]",
      "text/plain": [
       "<Figure size 648x360 with 1 Axes>"
      ]
     },
     "metadata": {},
     "output_type": "display_data"
    }
   ],
   "source": [
    "# Tracé de l'histogramme de répartition des nombres de chambres\n",
    "max_bedrooms = listings_df.agg({\"bedrooms\": \"max\"}).collect()[0][0]\n",
    "bedrooms_histogram = listings_df.select(\n",
    "    \"bedrooms\").rdd.flatMap(lambda x: x).histogram(max_bedrooms-1)\n",
    "\n",
    "pd.DataFrame(list(zip(*bedrooms_histogram)),\n",
    "             columns=['bin', 'densité']).set_index('bin').plot(kind='bar')\n",
    "plt.title(\"Histogramme du nombre de chambres\")\n",
    "plt.xlabel(\"Nombre de chambres\")\n",
    "plt.ylabel(\"Densité\")\n",
    "plt.show()"
   ]
  },
  {
   "cell_type": "code",
   "execution_count": 24,
   "metadata": {},
   "outputs": [
    {
     "name": "stdout",
     "output_type": "stream",
     "text": [
      "+--------+------------------+\n",
      "|bedrooms|        avg(price)|\n",
      "+--------+------------------+\n",
      "|       1| 87.05671878092222|\n",
      "|       2|144.34172225591269|\n",
      "|       3|206.30228667038483|\n",
      "|       4|258.02793296089385|\n",
      "|       5| 283.9423076923077|\n",
      "|       6|             334.0|\n",
      "|       7|             276.5|\n",
      "+--------+------------------+\n",
      "\n"
     ]
    }
   ],
   "source": [
    "listings_df.groupBy(['bedrooms']).mean('price').sort(asc('bedrooms')).show()"
   ]
  },
  {
   "cell_type": "markdown",
   "metadata": {},
   "source": [
    "Sans surprise, la tendance globale montre que le prix moyen augmente avec le nombre de chambres. Cependant cette tendance générale n'est pas confirmée au delà de 6 chambres : en réalité les appartements de plus de 3 chambres sont rares et les moyennes sont donc calculées sur de petits échantillons pour ces appartements, les valeurs ne sont pas fiables."
   ]
  },
  {
   "cell_type": "markdown",
   "metadata": {},
   "source": [
    "#### Impact de la localisation\n",
    "Intuitivement, la localisation de l'appartement devrait avoir un impact important, on peut vérifier comment se répartissent les prix en traçant une carte des prix moyens par arrondissement :"
   ]
  },
  {
   "cell_type": "code",
   "execution_count": 25,
   "metadata": {},
   "outputs": [],
   "source": [
    "# Le fichier neighbourhoods.geojson qui contient les informations de géoréférencement\n",
    "url = \"http://data.insideairbnb.com/france/ile-de-france/paris/2019-09-16/visualisations/neighbourhoods.geojson\"\n",
    "neighbourhoods_shape = gpd.read_file(url)\n",
    "\n",
    "# Calcul des moyennes de prix par arrondissement et enregistrement en DataFrame pandas\n",
    "neighbourhood_price = listings_df.groupBy(['neighbourhood']).mean('price')\n",
    "neighbourhood_price_df = neighbourhood_price.toPandas()\n",
    "\n",
    "# Création d'un dataframe contenant le géoréférencement des arrondissement et la moyenne des prix\n",
    "neighbourhood_table = neighbourhoods_shape.merge(neighbourhood_price_df)[['neighbourhood', 'geometry', 'avg(price)']]"
   ]
  },
  {
   "cell_type": "code",
   "execution_count": 26,
   "metadata": {},
   "outputs": [
    {
     "data": {
      "image/png": "[encoded data removed]",
      "text/plain": [
       "<Figure size 648x360 with 2 Axes>"
      ]
     },
     "metadata": {},
     "output_type": "display_data"
    }
   ],
   "source": [
    "# Tracé de la carte\n",
    "neighbourhood_table = neighbourhood_table.to_crs({'init': 'epsg:3395'})  # mercator projection\n",
    "\n",
    "vmin, vmax = neighbourhood_table['avg(price)'].min(), neighbourhood_table['avg(price)'].max()\n",
    "ax = neighbourhood_table.plot(column='avg(price)', \n",
    "                              cmap='Blues', \n",
    "                              vmin=vmin, \n",
    "                              vmax=vmax)\n",
    "fig = ax.get_figure()\n",
    "plt.title('Moyenne des prix par arrondissement')\n",
    "cax = fig.add_axes([0.9, 0.1, 0.03, 0.8])\n",
    "sm = plt.cm.ScalarMappable(cmap='Blues', norm=plt.Normalize(vmin=vmin, vmax=vmax))\n",
    "sm._A = []\n",
    "fig.colorbar(sm, cax=cax)\n",
    "plt.show()"
   ]
  },
  {
   "cell_type": "markdown",
   "metadata": {},
   "source": [
    "On voit que les moyennes de prix peuvent varier du simple au double selon l'arrondissement, la localisation pourrait jouer un rôle important dans notre modélisation."
   ]
  },
  {
   "cell_type": "code",
   "execution_count": 27,
   "metadata": {
    "scrolled": true
   },
   "outputs": [
    {
     "name": "stdout",
     "output_type": "stream",
     "text": [
      "Longueur du DataFrame : 34070, nombre de colonnes : 19\n"
     ]
    }
   ],
   "source": [
    "# Dimensions du DataFrame après la phase d'exploration et de nettoyage\n",
    "print(\"Longueur du DataFrame : {}, nombre de colonnes : {}\".format(listings_df.count(), len(listings_df.columns)))"
   ]
  },
  {
   "cell_type": "markdown",
   "metadata": {},
   "source": [
    "## 3. Encodage des variables catégorielles"
   ]
  },
  {
   "cell_type": "markdown",
   "metadata": {},
   "source": [
    "Cette étape va consister à effectuer des modifications sur les données catégorielles afin qu'elles puissent être ingérées par les algorithmes d'apprentissage utilisés par la suite.  \n",
    "Pour cela il va falloir transformer les variables catégorielles (telles que \"neighbourhood\", \"bed_type\", etc) en variables numériques. Dans ce but, j'utiliserai l'encodage one-hot : il consiste à représenter une variable catégorielle en un vecteur contenant uniquement des 0 et des 1, de taille égale au nombre de catégories possibles pour cette variable. Pour chaque échantillon, la valeur 1 sera affectée à l'indice de sa catégorie, et toutes les autres valeurs du vecteur seront mise égale à 0. "
   ]
  },
  {
   "cell_type": "markdown",
   "metadata": {},
   "source": [
    "Je commence par appliquer la fonction *StringIndexer* de pyspark sur chaque variable catégorielle. C'est une étape préliminaire à l'encodage one-hot : elle permet de transformer une catégorie en son indice parmi l'ensemble des catégories possibles pour une variable."
   ]
  },
  {
   "cell_type": "code",
   "execution_count": 28,
   "metadata": {},
   "outputs": [],
   "source": [
    "from pyspark.ml.feature import StringIndexer\n",
    "\n",
    "# Transformation des catégories en index\n",
    "\n",
    "indexer = StringIndexer(inputCol=\"neighbourhood\", outputCol=\"neighbourhoodIndex\")\n",
    "listings_df = indexer.fit(listings_df).transform(listings_df)\n",
    "\n",
    "indexer = StringIndexer(inputCol=\"property_type\", outputCol=\"property_typeIndex\")\n",
    "listings_df = indexer.fit(listings_df).transform(listings_df)\n",
    "\n",
    "indexer = StringIndexer(inputCol=\"room_type\", outputCol=\"room_typeIndex\")\n",
    "listings_df = indexer.fit(listings_df).transform(listings_df)\n",
    "\n",
    "indexer = StringIndexer(inputCol=\"bed_type\", outputCol=\"bed_typeIndex\")\n",
    "listings_df = indexer.fit(listings_df).transform(listings_df)\n",
    "\n",
    "indexer = StringIndexer(inputCol=\"instant_bookable\", outputCol=\"instant_bookableIndex\")\n",
    "listings_df = indexer.fit(listings_df).transform(listings_df)\n",
    "\n",
    "indexer = StringIndexer(inputCol=\"is_business_travel_ready\", outputCol=\"is_business_travel_readyIndex\")\n",
    "listings_df = indexer.fit(listings_df).transform(listings_df)\n",
    "\n",
    "indexer = StringIndexer(inputCol=\"cancellation_policy\", outputCol=\"cancellation_policyIndex\")\n",
    "listings_df = indexer.fit(listings_df).transform(listings_df)"
   ]
  },
  {
   "cell_type": "markdown",
   "metadata": {},
   "source": [
    "Il va falloir garder une trace pour la correspondance entre les différentes catégories et les indices qui les représentent. Je crée un dictionnaire indice/catégorie pour chaque variable catégorielle dans ce but:"
   ]
  },
  {
   "cell_type": "code",
   "execution_count": 29,
   "metadata": {},
   "outputs": [],
   "source": [
    "# Création des dictionnaires indices-catégorie pour chaque variable catégorielle\n",
    "# Y-a-t-il un moyen plus direct d'obtenir les correspondances que la méthode suivante?\n",
    "\n",
    "neighbourhoodList = [f.metadata for f in listings_df.schema.fields if f.name == \"neighbourhoodIndex\"]\n",
    "neighbourhoodDict = dict(enumerate(neighbourhoodList[0][\"ml_attr\"][\"vals\"]))\n",
    "\n",
    "property_typeList = [f.metadata for f in listings_df.schema.fields if f.name == \"property_typeIndex\"]\n",
    "property_typeDict = dict(enumerate(property_typeList[0][\"ml_attr\"][\"vals\"]))\n",
    "\n",
    "room_typeList = [f.metadata for f in listings_df.schema.fields if f.name == \"room_typeIndex\"]\n",
    "room_typeDict = dict(enumerate(room_typeList[0][\"ml_attr\"][\"vals\"]))\n",
    "\n",
    "bed_typeList = [f.metadata for f in listings_df.schema.fields if f.name == \"bed_typeIndex\"]\n",
    "bed_typeDict = dict(enumerate(bed_typeList[0][\"ml_attr\"][\"vals\"]))\n",
    "\n",
    "instant_bookableList = [f.metadata for f in listings_df.schema.fields if f.name == \"instant_bookableIndex\"]\n",
    "instant_bookableDict = dict(enumerate(instant_bookableList[0][\"ml_attr\"][\"vals\"]))\n",
    "\n",
    "is_business_travel_readyList = [f.metadata for f in listings_df.schema.fields if f.name == \"is_business_travel_readyIndex\"]\n",
    "is_business_travel_readyDict = dict(enumerate(is_business_travel_readyList[0][\"ml_attr\"][\"vals\"]))\n",
    "\n",
    "cancellation_policyList = [f.metadata for f in listings_df.schema.fields if f.name == \"cancellation_policyIndex\"]\n",
    "cancellation_policyDict = dict(enumerate(cancellation_policyList[0][\"ml_attr\"][\"vals\"]))"
   ]
  },
  {
   "cell_type": "markdown",
   "metadata": {},
   "source": [
    "Je peux maintenant appliquer l'encodage one-hot:"
   ]
  },
  {
   "cell_type": "code",
   "execution_count": 30,
   "metadata": {},
   "outputs": [],
   "source": [
    "# OneHotEncoder, transforme les index en vecteurs avec valeur 1 à l'indice correspondant\n",
    "from pyspark.ml.feature import OneHotEncoderEstimator\n",
    "\n",
    "inputCols = [\"neighbourhoodIndex\", \n",
    "             \"property_typeIndex\", \n",
    "             \"room_typeIndex\", \n",
    "             \"bed_typeIndex\", \n",
    "             \"instant_bookableIndex\",\n",
    "             \"is_business_travel_readyIndex\",\n",
    "             \"cancellation_policyIndex\"]\n",
    "\n",
    "outputCols = [\"neighbourhoodVec\", \n",
    "              \"property_typeVec\", \n",
    "              \"room_typeVec\", \n",
    "              \"bed_typeVec\", \n",
    "              \"instant_bookableVec\",\n",
    "              \"is_business_travel_readyVec\",\n",
    "              \"cancellation_policyVec\"]\n",
    "\n",
    "encoder = OneHotEncoderEstimator(inputCols=inputCols, outputCols=outputCols, dropLast=False)\n",
    "    \n",
    "model = encoder.fit(listings_df)\n",
    "listings_df = model.transform(listings_df)"
   ]
  },
  {
   "cell_type": "markdown",
   "metadata": {},
   "source": [
    "La fonction *VectorAssembler* va maintenant permettre de combiner l'ensemble des features sous forme vectorielle :"
   ]
  },
  {
   "cell_type": "code",
   "execution_count": 31,
   "metadata": {},
   "outputs": [],
   "source": [
    "from pyspark.ml.feature import VectorAssembler\n",
    "vectorAssembler = VectorAssembler(inputCols = [\"neighbourhoodVec\", \n",
    "                                               \"property_typeVec\", \n",
    "                                               \"room_typeVec\", \n",
    "                                               \"accomodates\",\n",
    "                                               \"bathrooms\", \n",
    "                                               \"bedrooms\", \n",
    "                                               \"beds\", \n",
    "                                               \"bed_typeVec\",\n",
    "                                               \"guests_included\",\n",
    "                                               \"minimum_night\",\n",
    "                                               \"maximum_night\",\n",
    "                                               \"availability_30\",\n",
    "                                               \"availability_60\",\n",
    "                                               \"availability_90\",\n",
    "                                               \"availability_365\",\n",
    "                                               \"instant_bookableVec\",\n",
    "                                               \"is_business_travel_readyVec\",\n",
    "                                               \"cancellation_policyVec\"], \n",
    "                                  outputCol = 'features', \n",
    "                                  handleInvalid=\"skip\")\n",
    "\n",
    "vlistings_df = vectorAssembler.transform(listings_df)\n",
    "vlistings_df = vlistings_df.select(['features', 'price'])"
   ]
  },
  {
   "cell_type": "markdown",
   "metadata": {},
   "source": [
    "A ce stade, je crée un dictionnaire de l'ensemble des features obtenus, pour savoir quel est l'indice de chaque feature possible suite à la création de l'encodage one-hot :"
   ]
  },
  {
   "cell_type": "code",
   "execution_count": 32,
   "metadata": {},
   "outputs": [],
   "source": [
    "# Dictionnaire de tous les features\n",
    "featuresList = [\"neighbourhood: \" + string for string in neighbourhoodList[0][\"ml_attr\"][\"vals\"]] + \\\n",
    "    [\"property_type: \" + string for string in property_typeList[0][\"ml_attr\"][\"vals\"]] + \\\n",
    "    [\"room_type: \" + string for string in room_typeList[0][\"ml_attr\"][\"vals\"]] + \\\n",
    "    [\"accomodates\"] + \\\n",
    "    [\"bathrooms\"] + \\\n",
    "    [\"bedrooms\"] + \\\n",
    "    [\"beds\"] + \\\n",
    "    [\"bed_type: \" + string for string in bed_typeList[0][\"ml_attr\"][\"vals\"]] + \\\n",
    "    [\"guests_included\"] + \\\n",
    "    [\"minimum_night\"] + \\\n",
    "    [\"maximum_night\"] + \\\n",
    "    [\"availability_30\"] + \\\n",
    "    [\"availability_60\"] + \\\n",
    "    [\"availability_90\"] + \\\n",
    "    [\"availability_365\"] + \\\n",
    "    [\"instant_bookable: \" + string for string in instant_bookableList[0][\"ml_attr\"][\"vals\"]] + \\\n",
    "    [\"is_business_travel_ready: \" + string for string in is_business_travel_readyList[0][\"ml_attr\"][\"vals\"]] + \\\n",
    "    [\"cancellation_policy: \" + string for string in cancellation_policyList[0][\"ml_attr\"][\"vals\"]]\n",
    "    \n",
    "featuresDict = dict(enumerate(featuresList))"
   ]
  },
  {
   "cell_type": "code",
   "execution_count": 33,
   "metadata": {},
   "outputs": [
    {
     "data": {
      "text/plain": [
       "{0: 'neighbourhood: Buttes-Montmartre',\n",
       " 1: 'neighbourhood: Popincourt',\n",
       " 2: 'neighbourhood: Vaugirard',\n",
       " 3: 'neighbourhood: Entrepôt',\n",
       " 4: 'neighbourhood: Batignolles-Monceau',\n",
       " 5: 'neighbourhood: Ménilmontant',\n",
       " 6: 'neighbourhood: Buttes-Chaumont',\n",
       " 7: 'neighbourhood: Passy',\n",
       " 8: 'neighbourhood: Opéra',\n",
       " 9: 'neighbourhood: Temple',\n",
       " 10: 'neighbourhood: Reuilly',\n",
       " 11: 'neighbourhood: Observatoire',\n",
       " 12: 'neighbourhood: Gobelins',\n",
       " 13: 'neighbourhood: Panthéon',\n",
       " 14: 'neighbourhood: Hôtel-de-Ville',\n",
       " 15: 'neighbourhood: Bourse',\n",
       " 16: 'neighbourhood: Luxembourg',\n",
       " 17: 'neighbourhood: Palais-Bourbon',\n",
       " 18: 'neighbourhood: Élysée',\n",
       " 19: 'neighbourhood: Louvre',\n",
       " 20: 'property_type: Apartment',\n",
       " 21: 'property_type: Condominium',\n",
       " 22: 'property_type: Loft',\n",
       " 23: 'property_type: Boutique hotel',\n",
       " 24: 'property_type: House',\n",
       " 25: 'property_type: Serviced apartment',\n",
       " 26: 'property_type: Bed and breakfast',\n",
       " 27: 'property_type: Townhouse',\n",
       " 28: 'property_type: Hotel',\n",
       " 29: 'property_type: Guesthouse',\n",
       " 30: 'property_type: Other',\n",
       " 31: 'property_type: Hostel',\n",
       " 32: 'room_type: Entire home/apt',\n",
       " 33: 'room_type: Private room',\n",
       " 34: 'room_type: Shared room',\n",
       " 35: 'accomodates',\n",
       " 36: 'bathrooms',\n",
       " 37: 'bedrooms',\n",
       " 38: 'beds',\n",
       " 39: 'bed_type: Real Bed',\n",
       " 40: 'bed_type: Pull-out Sofa',\n",
       " 41: 'bed_type: Couch',\n",
       " 42: 'bed_type: Futon',\n",
       " 43: 'bed_type: Airbed',\n",
       " 44: 'guests_included',\n",
       " 45: 'minimum_night',\n",
       " 46: 'maximum_night',\n",
       " 47: 'availability_30',\n",
       " 48: 'availability_60',\n",
       " 49: 'availability_90',\n",
       " 50: 'availability_365',\n",
       " 51: 'instant_bookable: f',\n",
       " 52: 'instant_bookable: t',\n",
       " 53: 'is_business_travel_ready: f',\n",
       " 54: 'cancellation_policy: flexible',\n",
       " 55: 'cancellation_policy: strict_14_with_grace_period',\n",
       " 56: 'cancellation_policy: moderate',\n",
       " 57: 'cancellation_policy: super_strict_60',\n",
       " 58: 'cancellation_policy: super_strict_30',\n",
       " 59: 'cancellation_policy: strict'}"
      ]
     },
     "execution_count": 33,
     "metadata": {},
     "output_type": "execute_result"
    }
   ],
   "source": [
    "featuresDict"
   ]
  },
  {
   "cell_type": "code",
   "execution_count": 34,
   "metadata": {},
   "outputs": [
    {
     "data": {
      "text/plain": [
       "[Row(features=SparseVector(60, {14: 1.0, 20: 1.0, 32: 1.0, 35: 4.0, 36: 1.0, 37: 2.0, 38: 2.0, 39: 1.0, 44: 2.0, 45: 10.0, 46: 23.0, 48: 3.0, 49: 3.0, 50: 240.0, 51: 1.0, 53: 1.0, 56: 1.0}), price=115.0)]"
      ]
     },
     "execution_count": 34,
     "metadata": {},
     "output_type": "execute_result"
    }
   ],
   "source": [
    "vlistings_df.take(1)"
   ]
  },
  {
   "cell_type": "markdown",
   "metadata": {},
   "source": [
    "Le DataFrame obtenu contient les features sous forme d'un SparseVector de longueur égale à 60. Ce SparseVecteur contient les indices et valeurs de toutes les composantes qui ne sont pas égales à 0. Le prix est contenu dans une variable séparée du SparseVector."
   ]
  },
  {
   "cell_type": "markdown",
   "metadata": {},
   "source": [
    "## 4. Modélisation"
   ]
  },
  {
   "cell_type": "markdown",
   "metadata": {},
   "source": [
    "Je vais maintenant modéliser les données en utilisant 2 méthodes de régression linéaire : les moindres carrées ordinaires puis la régression avec régularisation. Ces deux algorithmes ont été choisis car ce sont des algorithmes de base en régression, et je comprend bien à quoi correspondent leur différents paramètres.\n",
    "Dans un second temps, j'essayerai d'appliquer un modèle non linéaire pour tenter d'améliorer les résultats, en appliquant l'algorithme du Random Forest qui m'est moins familier. Je pourrait voir si il permet d'être plus précis dans ce contexte."
   ]
  },
  {
   "cell_type": "markdown",
   "metadata": {},
   "source": [
    "Je commence par diviser aléatoirement le jeu de données en un jeu d'entrainement et un jeu de test :"
   ]
  },
  {
   "cell_type": "code",
   "execution_count": 35,
   "metadata": {},
   "outputs": [],
   "source": [
    "# split en dataframes train et test\n",
    "splits = vlistings_df.randomSplit([0.8, 0.2])\n",
    "train_df = splits[0]\n",
    "test_df = splits[1]"
   ]
  },
  {
   "cell_type": "markdown",
   "metadata": {},
   "source": [
    "Je crée ensuite les fonctions d'évaluation des modèles. Je vais évaluer : \n",
    "- le coefficient ${R²}$ qui mesurera le pourcentage de variabilité du prix expliqué par le modèle ;\n",
    "- le RMSE (Root Mean Square Error) qui permettra d'obtenir une indication sur l'amplitude moyenne des erreurs ;\n",
    "- le MAE (Mean Absolute Error) qui représente également une mesure d'erreur, mais moins sensible aux erreurs extrêmes que le RMSE, ce pourrait être une mesure d'erreur intéressante ici car la distribution des prix est biaisée par les valeurs élevées."
   ]
  },
  {
   "cell_type": "code",
   "execution_count": 36,
   "metadata": {},
   "outputs": [],
   "source": [
    "# Fonctions d'évaluations\n",
    "from pyspark.ml.evaluation import RegressionEvaluator\n",
    "\n",
    "R2_evaluator = RegressionEvaluator(predictionCol=\"prediction\", labelCol=\"price\", metricName=\"r2\")\n",
    "RMSE_evaluator = RegressionEvaluator(predictionCol=\"prediction\", labelCol=\"price\", metricName=\"rmse\")\n",
    "MAE_evaluator = RegressionEvaluator(predictionCol=\"prediction\", labelCol=\"price\", metricName=\"mae\")"
   ]
  },
  {
   "cell_type": "markdown",
   "metadata": {},
   "source": [
    "### Régression linéaire OLS\n",
    "Je commence par réaliser une modélisation par les moindres carrées ordinaires."
   ]
  },
  {
   "cell_type": "code",
   "execution_count": 37,
   "metadata": {},
   "outputs": [],
   "source": [
    "from pyspark.ml.regression import LinearRegression\n",
    "\n",
    "# Paramètres de la régression: regParam=0 pour la régression OLS\n",
    "linreg = LinearRegression(featuresCol = 'features', \\\n",
    "                      labelCol='price', \\\n",
    "                      maxIter=100, \\\n",
    "                      regParam=0.0, \\\n",
    "                      elasticNetParam=0)\n",
    "\n",
    "# Entrainement du modèle\n",
    "OLS_model = linreg.fit(train_df)\n",
    "\n",
    "# Calcul des prédictions sur le jeu d'entrainement\n",
    "predictions_train = OLS_model.transform(train_df)"
   ]
  },
  {
   "cell_type": "code",
   "execution_count": 38,
   "metadata": {},
   "outputs": [
    {
     "name": "stdout",
     "output_type": "stream",
     "text": [
      "Coefficient R2 sur le jeu d'entrainement : 0.570784\n",
      "RMSE sur le jeu d'entrainement : 46.4111\n",
      "MAE sur le jeu d'entrainement : 31.5038\n"
     ]
    }
   ],
   "source": [
    "# Affichage des indicateurs de performance\n",
    "OLS_train_R2 = R2_evaluator.evaluate(predictions_train)\n",
    "OLS_train_RMSE = RMSE_evaluator.evaluate(predictions_train)\n",
    "OLS_train_MAE = MAE_evaluator.evaluate(predictions_train)\n",
    "print(\"Coefficient R2 sur le jeu d'entrainement : %g\" % OLS_train_R2)\n",
    "print(\"RMSE sur le jeu d'entrainement : %g\" % OLS_train_RMSE)\n",
    "print(\"MAE sur le jeu d'entrainement : %g\" % OLS_train_MAE)"
   ]
  },
  {
   "cell_type": "code",
   "execution_count": 39,
   "metadata": {},
   "outputs": [
    {
     "name": "stdout",
     "output_type": "stream",
     "text": [
      "Coefficient R2 sur le jeu de test : 0.573659\n",
      "RMSE sur le jeu de test : 45.9461\n",
      "MAE sur le jeu de test : 31.5068\n"
     ]
    }
   ],
   "source": [
    "# Calcul des prédictions sur le jeu de test\n",
    "predictions_test = OLS_model.transform(test_df)\n",
    "\n",
    "# Affichage des indicateurs de performance\n",
    "OLS_test_R2 = R2_evaluator.evaluate(predictions_test)\n",
    "OLS_test_RMSE = RMSE_evaluator.evaluate(predictions_test)\n",
    "OLS_test_MAE = MAE_evaluator.evaluate(predictions_test)\n",
    "print(\"Coefficient R2 sur le jeu de test : %g\" % OLS_test_R2)\n",
    "print(\"RMSE sur le jeu de test : %g\" % OLS_test_RMSE)\n",
    "print(\"MAE sur le jeu de test : %g\" % OLS_test_MAE)"
   ]
  },
  {
   "cell_type": "markdown",
   "metadata": {},
   "source": [
    "### Régression linéaire avec régularisation\n",
    "Je va appliquer une régularisation à la régression, on jouant sur 2 paramètres :\n",
    "- le facteur de régularisation regParam ;\n",
    "- le compromis de régularisation L1/L2, défini par elasticNetParam ;  \n",
    "\n",
    "Je vais créer une grille sur ces 2 paramètres puis rechercher la meilleure combinaison de ces 2 facteurs sur cette grille, grâce à un jeu de cross-validation. L'évaluation des modèles se fera sur le MAE, plus robuste aux valeurs extrêmes."
   ]
  },
  {
   "cell_type": "code",
   "execution_count": 40,
   "metadata": {},
   "outputs": [],
   "source": [
    "from pyspark.ml.tuning import ParamGridBuilder, CrossValidator\n",
    "\n",
    "# Création de la grille de recherche d'hyperparamètres\n",
    "paramGrid = ParamGridBuilder()\\\n",
    "    .addGrid(linreg.regParam, [0.001, 0.01, 0.1, 1, 10, 100, 1000]) \\\n",
    "    .addGrid(linreg.elasticNetParam, [0, 0.25, 0.5, 0.75, 1])\\\n",
    "    .build()\n",
    "\n",
    "# Evaluation du modèle sur le MAE\n",
    "evaluator = MAE_evaluator\n",
    "\n",
    "# Cross-validation\n",
    "crossval = CrossValidator(estimator=linreg,\n",
    "                          estimatorParamMaps=paramGrid,\n",
    "                          evaluator=evaluator,\n",
    "                          numFolds=5)\n",
    "\n",
    "# Lancement du TrainValidationSplit et choix des meilleurs paramètres\n",
    "model_CV = crossval.fit(train_df)\n",
    "\n",
    "# Prédiction effectuées grâce au meilleurs modèle trouvé\n",
    "predictions = model_CV.transform(test_df)"
   ]
  },
  {
   "cell_type": "code",
   "execution_count": 42,
   "metadata": {},
   "outputs": [
    {
     "name": "stdout",
     "output_type": "stream",
     "text": [
      "regParam :  1.0\n",
      "elasticNetParam :  1.0\n"
     ]
    }
   ],
   "source": [
    "# Affichage des meilleurs paramètres sélectionnés\n",
    "print(\"regParam : \", model_CV.bestModel._java_obj.getRegParam())\n",
    "print(\"elasticNetParam : \", model_CV.bestModel._java_obj.getElasticNetParam())"
   ]
  },
  {
   "cell_type": "code",
   "execution_count": 41,
   "metadata": {},
   "outputs": [
    {
     "name": "stdout",
     "output_type": "stream",
     "text": [
      "Coefficient R2 sur le jeu de test : 0.569864\n",
      "RMSE sur le jeu de test : 46.1502\n",
      "MAE sur le jeu de test : 31.3337\n"
     ]
    }
   ],
   "source": [
    "# Affichage des indicateurs de performance\n",
    "LRR_R2 = R2_evaluator.evaluate(predictions)\n",
    "LRR_RMSE = RMSE_evaluator.evaluate(predictions)\n",
    "LRR_MAE = MAE_evaluator.evaluate(predictions)\n",
    "print(\"Coefficient R2 sur le jeu de test : %g\" % LRR_R2)\n",
    "print(\"RMSE sur le jeu de test : %g\" % LRR_RMSE)\n",
    "print(\"MAE sur le jeu de test : %g\" % LRR_MAE)"
   ]
  },
  {
   "cell_type": "markdown",
   "metadata": {},
   "source": [
    "On s'aperçoit que la régularisation n'a pas permis d'améliorer le modèle, les indicateurs de performance sont du même ordre de grandeur."
   ]
  },
  {
   "cell_type": "markdown",
   "metadata": {},
   "source": [
    "### Random Forest\n",
    "Je vais maintenant essayer d'appliquer l'algorithme du random forest. Peut-être qu'une méthode non linéaire parviendra mieux à rendre compte de la complexité des données."
   ]
  },
  {
   "cell_type": "code",
   "execution_count": 43,
   "metadata": {},
   "outputs": [],
   "source": [
    "from pyspark.ml.regression import RandomForestRegressor\n",
    "from pyspark.ml.feature import VectorIndexer\n",
    "from pyspark.ml.evaluation import RegressionEvaluator\n",
    "\n",
    "# Train a RandomForest model\n",
    "rf = RandomForestRegressor(featuresCol=\"features\", labelCol='price') \n",
    "\n",
    "# Train model.  This also runs the indexer\n",
    "model = rf.fit(train_df)\n",
    "\n",
    "# Make predictions\n",
    "predictions_train = model.transform(train_df)\n",
    "predictions_test = model.transform(test_df)"
   ]
  },
  {
   "cell_type": "code",
   "execution_count": 44,
   "metadata": {},
   "outputs": [
    {
     "name": "stdout",
     "output_type": "stream",
     "text": [
      "Coefficient R2 sur le jeu d'entrainement : 0.491354\n",
      "RMSE sur le jeu d'entrainement : 50.5233\n",
      "MAE sur le jeu d'entrainement : 34.2696\n",
      "===================================================\n",
      "Coefficient R2 sur le jeu de test : 0.486736\n",
      "RMSE sur le jeu de test : 50.4128\n",
      "MAE sur le jeu de test : 34.4598\n"
     ]
    }
   ],
   "source": [
    "# Affichage des indicateurs de performance\n",
    "rf_R2_train = R2_evaluator.evaluate(predictions_train)\n",
    "rf_RMSE_train = RMSE_evaluator.evaluate(predictions_train)\n",
    "rf_MAE_train = MAE_evaluator.evaluate(predictions_train)\n",
    "print(\"Coefficient R2 sur le jeu d'entrainement : %g\" % rf_R2_train)\n",
    "print(\"RMSE sur le jeu d'entrainement : %g\" % rf_RMSE_train)\n",
    "print(\"MAE sur le jeu d'entrainement : %g\" % rf_MAE_train)\n",
    "\n",
    "print('===================================================')\n",
    "\n",
    "rf_R2_test = R2_evaluator.evaluate(predictions_test)\n",
    "rf_RMSE_test = RMSE_evaluator.evaluate(predictions_test)\n",
    "rf_MAE_test = MAE_evaluator.evaluate(predictions_test)\n",
    "print(\"Coefficient R2 sur le jeu de test : %g\" % rf_R2_test)\n",
    "print(\"RMSE sur le jeu de test : %g\" % rf_RMSE_test)\n",
    "print(\"MAE sur le jeu de test : %g\" % rf_MAE_test)"
   ]
  },
  {
   "cell_type": "markdown",
   "metadata": {},
   "source": [
    "Le random forest avec ses paramètres par défaut ne fait pas de miracles, la régression linéaire offre de meilleurs résultats.  \n",
    "Je vais essayer de régler quelques-uns des hyper-paramètres de l'algorithme pour tenter de faire mieux."
   ]
  },
  {
   "cell_type": "markdown",
   "metadata": {},
   "source": [
    "### Random Forest avec recherche des hyperparamètres\n",
    "Parmis les hyper-paramètres de l'algorithme, je choisis de jouer sur la profondeur des arbres (maxDepth) et sur leur nombre (numTrees). Malheureusement, je suis très limité dans cette recherche car cet algorithme est couteux et je n'ai pas les capacités de calcul pour faire un balayage plus exhaustif, avec plus de paramètres et des fourchettes de valeur plus étendues. Je suis même obligé d'effectuer ma recherche en séquentiel sur les 2 paramètres choisis pour que cela fonctionne :"
   ]
  },
  {
   "cell_type": "code",
   "execution_count": 45,
   "metadata": {},
   "outputs": [],
   "source": [
    "# Création de la grille de recherche d'hyperparamètres\n",
    "paramGrid = ParamGridBuilder()\\\n",
    "    .addGrid(rf.maxDepth, [5, 10, 20, 30]) \\\n",
    "    .build()\n",
    "\n",
    "# Evaluation du modèle sur le MAE\n",
    "evaluator = MAE_evaluator\n",
    "\n",
    "# Cross-validation\n",
    "crossval = CrossValidator(estimator=rf,\n",
    "                          estimatorParamMaps=paramGrid,\n",
    "                          evaluator=evaluator,\n",
    "                          numFolds=5)\n",
    "\n",
    "# Lancement du TrainValidationSplit et choix des meilleurs paramètres\n",
    "model_CV = crossval.fit(train_df)\n",
    "\n",
    "# Prédiction effectuées grâce au meilleurs modèle trouvé\n",
    "predictions = model_CV.transform(test_df)"
   ]
  },
  {
   "cell_type": "code",
   "execution_count": 46,
   "metadata": {},
   "outputs": [],
   "source": [
    "maxDepth = model_CV.bestModel._java_obj.getMaxDepth()"
   ]
  },
  {
   "cell_type": "code",
   "execution_count": 47,
   "metadata": {},
   "outputs": [],
   "source": [
    "# Création de la grille de recherche d'hyperparamètres\n",
    "paramGrid = ParamGridBuilder()\\\n",
    "    .addGrid(rf.maxDepth, [maxDepth]) \\\n",
    "    .addGrid(rf.numTrees, [20, 25, 30]) \\\n",
    "    .build()\n",
    "\n",
    "# Evaluation du modèle sur le MAE\n",
    "evaluator = MAE_evaluator\n",
    "\n",
    "# Cross-validation\n",
    "crossval = CrossValidator(estimator=rf,\n",
    "                          estimatorParamMaps=paramGrid,\n",
    "                          evaluator=evaluator,\n",
    "                          numFolds=5)\n",
    "\n",
    "# Lancement du TrainValidationSplit et choix des meilleurs paramètres\n",
    "model_CV = crossval.fit(train_df)\n",
    "\n",
    "# Prédiction effectuées grâce au meilleurs modèle trouvé\n",
    "predictions = model_CV.transform(test_df)"
   ]
  },
  {
   "cell_type": "code",
   "execution_count": 49,
   "metadata": {},
   "outputs": [
    {
     "name": "stdout",
     "output_type": "stream",
     "text": [
      "maxDepth :  20\n",
      "numTrees :  25\n"
     ]
    }
   ],
   "source": [
    "print(\"maxDepth : \", maxDepth)\n",
    "print(\"numTrees : \", model_CV.bestModel._java_obj.getNumTrees())"
   ]
  },
  {
   "cell_type": "code",
   "execution_count": 48,
   "metadata": {},
   "outputs": [
    {
     "name": "stdout",
     "output_type": "stream",
     "text": [
      "Coefficient R2 sur le jeu de test : 0.57021\n",
      "RMSE sur le jeu de test : 46.1316\n",
      "MAE sur le jeu de test : 30.6862\n"
     ]
    }
   ],
   "source": [
    "# Affichage des indicateurs de performance\n",
    "rfh_R2 = R2_evaluator.evaluate(predictions)\n",
    "rfh_RMSE = RMSE_evaluator.evaluate(predictions)\n",
    "rfh_MAE = MAE_evaluator.evaluate(predictions)\n",
    "print(\"Coefficient R2 sur le jeu de test : %g\" % rfh_R2)\n",
    "print(\"RMSE sur le jeu de test : %g\" % rfh_RMSE)\n",
    "print(\"MAE sur le jeu de test : %g\" % rfh_MAE)"
   ]
  },
  {
   "cell_type": "markdown",
   "metadata": {},
   "source": [
    "Finalement, la performance est meilleurs qu'avec les réglages de base en random forest, mais reste quasiment la même que par régression linéaire ordinaire."
   ]
  },
  {
   "cell_type": "markdown",
   "metadata": {},
   "source": [
    "Cependatn, un point intéressant de l'algorithme du random forest est qu'il permet d'afficher l'importance détectée des features. Dans le contexte de cette modélisation, cela permet par exemple de savoir quels sont les facteurs les plus importants pour fixer un prix à la nuit :"
   ]
  },
  {
   "cell_type": "code",
   "execution_count": 50,
   "metadata": {},
   "outputs": [
    {
     "data": {
      "image/png": "[encoded data removed]",
      "text/plain": [
       "<Figure size 648x1800 with 1 Axes>"
      ]
     },
     "metadata": {},
     "output_type": "display_data"
    }
   ],
   "source": [
    "# Création de la liste des features ordonnés par ordre d'importance\n",
    "features_impt = dict(zip(featuresList, [i for i in model_CV.bestModel.featureImportances]))\n",
    "features_impt = sorted(features_impt.items(), key=operator.itemgetter(1), reverse=True)\n",
    "\n",
    "# Création de l'histogramme\n",
    "features_impt.reverse()\n",
    "features = [tup[0] for tup in features_impt]\n",
    "importances = [tup[1] for tup in features_impt]\n",
    "y_pos = np.arange(len(features)) \n",
    "\n",
    "fig, ax = plt.subplots(figsize=(9, 25))\n",
    "plt.barh(y_pos, importances, align='center')\n",
    "ax.set_yticks(y_pos)\n",
    "ax.set_yticklabels(features) \n",
    "ax.set_xlabel('importance')\n",
    "ax.set_title('Feature importances')\n",
    "plt.show()"
   ]
  },
  {
   "cell_type": "markdown",
   "metadata": {},
   "source": [
    "Le nombre de chambre et de lit, la capacité d'accueil, le nombre de salles de bain et la disponibilité de l'appartement dans les prochaines périodes semblent jouer les rôles les plus importants."
   ]
  },
  {
   "cell_type": "markdown",
   "metadata": {},
   "source": [
    "## Conclusion\n",
    "Le travail effectué a montré la démarche à suivre pour prendre en charge un jeu de données et se servir des outils offerts par la bibliothèque PySpark. La conversion en DataFrame, le nettoyage, l'exploration et la modélisation des données ont été abordés.  \n",
    "Concernant les résultats obtenus, les performances sont très similaires entre régression linéaire ordinaire et random forest avec recherche sur les hyper-paramètres. Avec ces modèles, le RMSE atteint alors 46 €, le MAE 30 €, et la modélisation explique 57 % de la variabilité des prix. Ce résultat ne semble pas très bon dans l'absolu, et on peux penser que de nombreux facteurs importants n'ont pas pu être pris en compte dans cette modélisation simple. Pour améliorer le modèle grace aux données disponible, on pourrait par exemple :\n",
    "- utiliser des méthodes de NLP pour analyser la description de l'appartement et de l'hôte ;\n",
    "- prendre en compte les activités, transports et points d'intérêt à proximité ;\n",
    "- modéliser la saisonalité des prix ;\n",
    "- essayer d'autres algorithmes de régression, jouer avec plus de flexibilité sur les hyper-paramètres.\n",
    "\n",
    "Cela dit, des paramètres importants ne sont peut-être pas capturés par les données disponibles, comme par exemple les photos mises en ligne, qui jouent probablement un rôle prépondérant dans l'attractivité des appartements.  \n",
    "\n",
    "Enfin, la source de données utilisée pourrait également contribuer à répondre à des questions plus larges, par exemple sur l'impact économique d'Airbnb sur le marché immobilier des grandes villes."
   ]
  }
 ],
 "metadata": {
  "kernelspec": {
   "display_name": "Python 3",
   "language": "python",
   "name": "python3"
  },
  "language_info": {
   "codemirror_mode": {
    "name": "ipython",
    "version": 3
   },
   "file_extension": ".py",
   "mimetype": "text/x-python",
   "name": "python",
   "nbconvert_exporter": "python",
   "pygments_lexer": "ipython3",
   "version": "3.7.3"
  }
 },
 "nbformat": 4,
 "nbformat_minor": 2
}
